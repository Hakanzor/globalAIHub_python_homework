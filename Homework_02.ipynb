{
 "cells": [
  {
   "cell_type": "code",
   "execution_count": 11,
   "metadata": {},
   "outputs": [
    {
     "name": "stdout",
     "output_type": "stream",
     "text": [
      "Your First Name:hakan\n",
      "Your Last Name:zor\n",
      "Age:41\n",
      "Date of Birth (Just Year):1979\n"
     ]
    }
   ],
   "source": [
    "first_name = input(\"Your First Name:\")\n",
    "last_name = input(\"Your Last Name:\")\n",
    "age = int(input(\"Age:\"))\n",
    "date_of_birth = int(input(\"Date of Birth (Just Year):\"))"
   ]
  },
  {
   "cell_type": "code",
   "execution_count": 12,
   "metadata": {},
   "outputs": [],
   "source": [
    "person = []\n",
    "person.append(first_name)\n",
    "person.append(last_name)\n",
    "person.append(age)\n",
    "person.append(date_of_birth)"
   ]
  },
  {
   "cell_type": "code",
   "execution_count": 16,
   "metadata": {},
   "outputs": [
    {
     "name": "stdout",
     "output_type": "stream",
     "text": [
      "First Name: hakan\n",
      "Last Name: zor\n",
      "Age: 41\n",
      "Date of Birtday: 1979\n",
      "You can't go out because it's too dangerous\n"
     ]
    }
   ],
   "source": [
    "print(\"First Name:\", person[0])\n",
    "print(\"Last Name:\", person[1])\n",
    "print(\"Age:\", person[2])\n",
    "print(\"Date of Birtday:\",date_of_birth)\n",
    "if person[2] <= 18:\n",
    "    print(\"You can go out to the street\")\n",
    "else:\n",
    "    print(\"You can't go out because it's too dangerous\")"
   ]
  },
  {
   "cell_type": "code",
   "execution_count": null,
   "metadata": {},
   "outputs": [],
   "source": []
  }
 ],
 "metadata": {
  "kernelspec": {
   "display_name": "Python 3",
   "language": "python",
   "name": "python3"
  },
  "language_info": {
   "codemirror_mode": {
    "name": "ipython",
    "version": 3
   },
   "file_extension": ".py",
   "mimetype": "text/x-python",
   "name": "python",
   "nbconvert_exporter": "python",
   "pygments_lexer": "ipython3",
   "version": "3.7.3"
  }
 },
 "nbformat": 4,
 "nbformat_minor": 2
}
