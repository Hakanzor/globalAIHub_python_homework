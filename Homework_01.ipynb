{
 "cells": [
  {
   "cell_type": "code",
   "execution_count": 6,
   "metadata": {},
   "outputs": [
    {
     "name": "stdout",
     "output_type": "stream",
     "text": [
      "Please Enter 1 st Value:1\n",
      "Please Enter 2 nd Value:2\n",
      "Please Enter 3 th Value:3\n",
      "Please Enter 4 th Value:4\n",
      "Please Enter 5 th Value:5\n"
     ]
    }
   ],
   "source": [
    "v1 = input(\"Please Enter 1 st Value:\")\n",
    "v2 = input(\"Please Enter 2 nd Value:\")\n",
    "v3 = input(\"Please Enter 3 th Value:\")\n",
    "v4 = input(\"Please Enter 4 th Value:\")\n",
    "v5 = input(\"Please Enter 5 th Value:\")"
   ]
  },
  {
   "cell_type": "code",
   "execution_count": 7,
   "metadata": {},
   "outputs": [
    {
     "name": "stdout",
     "output_type": "stream",
     "text": [
      "1 st Value 1\n",
      "2 nd Value 2\n",
      "1 th Value 3\n",
      "1 th Value 4\n",
      "1 th Value 5\n"
     ]
    }
   ],
   "source": [
    "print('1 st Value {}'.format(v1))\n",
    "print('2 nd Value {}'.format(v2))\n",
    "print('1 th Value {}'.format(v3))\n",
    "print('1 th Value {}'.format(v4))\n",
    "print('1 th Value {}'.format(v5))"
   ]
  },
  {
   "cell_type": "code",
   "execution_count": null,
   "metadata": {},
   "outputs": [],
   "source": []
  }
 ],
 "metadata": {
  "kernelspec": {
   "display_name": "Python 3",
   "language": "python",
   "name": "python3"
  },
  "language_info": {
   "codemirror_mode": {
    "name": "ipython",
    "version": 3
   },
   "file_extension": ".py",
   "mimetype": "text/x-python",
   "name": "python",
   "nbconvert_exporter": "python",
   "pygments_lexer": "ipython3",
   "version": "3.7.3"
  }
 },
 "nbformat": 4,
 "nbformat_minor": 2
}
